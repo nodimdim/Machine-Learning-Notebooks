{
 "cells": [
  {
   "cell_type": "code",
   "execution_count": null,
   "metadata": {},
   "outputs": [],
   "source": [
    "import pandas as pd\n",
    "from sklearn import tree\n",
    "import numpy as np\n",
    "from sklearn.ensemble import RandomForestRegressor\n",
    "\n",
    "f, n = map(int, input().split())\n",
    "\n",
    "features = []\n",
    "targets = []\n",
    "for _ in range(0,n):\n",
    "    flst = list(map(float, input().split()))\n",
    "    tlst = []\n",
    "    tlst.append(flst.pop())\n",
    "    targets.append(tlst);\n",
    "    features.append(flst)\n",
    "    \n",
    "random_forest = RandomForestRegressor(max_depth = 7, min_samples_split=2, n_estimators = 200, random_state = 1)\n",
    "random_forest = random_forest.fit(features, targets)\n",
    "\n",
    "#print(features)\n",
    "#print(target)\n",
    "#print(decision_tree.score(features, target))\n",
    "\n",
    "q = int(input())\n",
    "\n",
    "t_features = []\n",
    "for _ in range(0,q):\n",
    "    flst = list(map(float, input().split()))\n",
    "    t_features.append(flst)\n",
    "    \n",
    "result = random_forest.predict(t_features)\n",
    "\n",
    "for item in result:\n",
    "    print(item)\n",
    "    "
   ]
  }
 ],
 "metadata": {
  "kernelspec": {
   "display_name": "Python 3",
   "language": "python",
   "name": "python3"
  },
  "language_info": {
   "codemirror_mode": {
    "name": "ipython",
    "version": 3
   },
   "file_extension": ".py",
   "mimetype": "text/x-python",
   "name": "python",
   "nbconvert_exporter": "python",
   "pygments_lexer": "ipython3",
   "version": "3.6.1"
  }
 },
 "nbformat": 4,
 "nbformat_minor": 2
}
