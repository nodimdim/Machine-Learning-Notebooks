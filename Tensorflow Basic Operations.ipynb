{
 "cells": [
  {
   "cell_type": "markdown",
   "metadata": {},
   "source": [
    "<h1> Tensorflow Basic Operations </h1> "
   ]
  },
  {
   "cell_type": "markdown",
   "metadata": {},
   "source": [
    "Importing tensorflow module"
   ]
  },
  {
   "cell_type": "code",
   "execution_count": 23,
   "metadata": {
    "collapsed": true
   },
   "outputs": [],
   "source": [
    "import tensorflow as tf\n",
    "import numpy as np"
   ]
  },
  {
   "cell_type": "code",
   "execution_count": 24,
   "metadata": {},
   "outputs": [
    {
     "name": "stdout",
     "output_type": "stream",
     "text": [
      "8\n"
     ]
    }
   ],
   "source": [
    "a = tf.constant(2)\n",
    "b = tf.constant(4)\n",
    "m = tf.multiply(a, b)\n",
    "with tf.Session() as sess:\n",
    "    print(\"{}\".format(sess.run(m)))"
   ]
  },
  {
   "cell_type": "code",
   "execution_count": 25,
   "metadata": {},
   "outputs": [
    {
     "name": "stdout",
     "output_type": "stream",
     "text": [
      "15\n"
     ]
    }
   ],
   "source": [
    "add = tf.add(a, b)\n",
    "with tf.Session() as sess:\n",
    "    print(\"{}\".format(sess.run(add, feed_dict={a: 6, b: 9})))"
   ]
  },
  {
   "cell_type": "code",
   "execution_count": 37,
   "metadata": {},
   "outputs": [
    {
     "name": "stdout",
     "output_type": "stream",
     "text": [
      "mat1:\n",
      "[[ 0.09305602  0.68706512  0.8807492 ]\n",
      " [ 0.82866915  0.29357049  0.83552585]\n",
      " [ 0.14724203  0.35498805  0.88306873]]\n",
      "mat2:\n",
      "[[ 0.65701136  0.43957443  0.68610842]\n",
      " [ 0.71543003  0.25626376  0.53418071]\n",
      " [ 0.68010274  0.55484042  0.23549671]]\n",
      "mat1xmat2:\n",
      "[[ 1.15168583  0.7056502   0.63827699]\n",
      " [ 1.32271761  0.90307677  0.92214016]\n",
      " [ 0.95128626  0.64565663  0.49861154]]\n"
     ]
    }
   ],
   "source": [
    "mat1 = tf.constant(np.random.rand(3, 3))\n",
    "mat2 = tf.constant(np.random.rand(3, 3))\n",
    "prod = tf.matmul(mat1, mat2)\n",
    "\n",
    "with tf.Session() as sess:\n",
    "    print(\"mat1:\\n{}\".format(sess.run(mat1)))\n",
    "    print(\"mat2:\\n{}\".format(sess.run(mat2)))\n",
    "    print(\"mat1xmat2:\\n{}\".format(sess.run(prod)))"
   ]
  }
 ],
 "metadata": {
  "kernelspec": {
   "display_name": "Python 3",
   "language": "python",
   "name": "python3"
  },
  "language_info": {
   "codemirror_mode": {
    "name": "ipython",
    "version": 3
   },
   "file_extension": ".py",
   "mimetype": "text/x-python",
   "name": "python",
   "nbconvert_exporter": "python",
   "pygments_lexer": "ipython3",
   "version": "3.6.1"
  }
 },
 "nbformat": 4,
 "nbformat_minor": 2
}
