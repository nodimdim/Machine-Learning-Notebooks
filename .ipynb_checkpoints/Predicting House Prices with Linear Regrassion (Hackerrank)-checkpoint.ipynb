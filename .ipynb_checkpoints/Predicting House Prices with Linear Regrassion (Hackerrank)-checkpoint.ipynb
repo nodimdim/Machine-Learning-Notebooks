{
 "cells": [
  {
   "cell_type": "code",
   "execution_count": null,
   "metadata": {},
   "outputs": [],
   "source": [
    "import pandas as pd\n",
    "from sklearn import linear_model as lm\n",
    "import numpy as np\n",
    "\n",
    "\n",
    "f, n = map(int, input().split())\n",
    "\n",
    "fmat = []\n",
    "tmat = []\n",
    "for _ in range(0,n):\n",
    "    flst = list(map(float, input().split()))\n",
    "    tlst = []\n",
    "    tlst.append(flst.pop())\n",
    "    tmat.append(tlst);\n",
    "    fmat.append(flst)\n",
    "\n",
    "features = pd.DataFrame(np.array(fmat))\n",
    "target = pd.DataFrame(np.array(tmat))\n",
    "\n",
    "\n",
    "features = features[list(features)].values\n",
    "target = target[list(target)].values\n",
    "lin_reg = lm.LinearRegression()\n",
    "lin_reg = lin_reg.fit(features, target)\n",
    "\n",
    "q = int(input())\n",
    "\n",
    "fmat = []\n",
    "for _ in range(0,q):\n",
    "    flst = list(map(float, input().split()))\n",
    "    fmat.append(flst)\n",
    "\n",
    "t_features = np.array(fmat)\n",
    "result = lin_reg.predict(t_features)\n",
    "\n",
    "for item in result:\n",
    "    print(item[0])\n",
    "    \n"
   ]
  }
 ],
 "metadata": {
  "kernelspec": {
   "display_name": "Python 3",
   "language": "python",
   "name": "python3"
  },
  "language_info": {
   "codemirror_mode": {
    "name": "ipython",
    "version": 3
   },
   "file_extension": ".py",
   "mimetype": "text/x-python",
   "name": "python",
   "nbconvert_exporter": "python",
   "pygments_lexer": "ipython3",
   "version": "3.6.1"
  }
 },
 "nbformat": 4,
 "nbformat_minor": 2
}
