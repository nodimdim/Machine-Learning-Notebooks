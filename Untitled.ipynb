{
 "cells": [
  {
   "cell_type": "markdown",
   "metadata": {},
   "source": [
    "#Famu Maths"
   ]
  },
  {
   "cell_type": "markdown",
   "metadata": {},
   "source": [
    "\\begin{equation*} \\vec{s}=t.\\hat{i}+\\frac{t^2}{2}.\\hat{j}+\\frac{t^3}{3}.\\hat{k} \\end{equation*}\n",
    "\n",
    "\\begin{equation*} \\vec{v}=\\frac{d}{dt} \\vec{s} = \\frac{d}{dt} (t.\\hat{i}+\\frac{t^2}{2}.\\hat{j}+\\frac{t^3}{3}.\\hat{k})=\\hat{i}+t.\\hat{j}+t^2.\\hat{k} \\end{equation*}\n",
    "\n",
    "\\begin{equation*} \\vec{a}=\\frac{d}{dt} \\vec{v} = \\frac{d}{dt} (\\hat{i}+t.\\hat{j}+t^2.\\hat{k})=\\hat{j}+2t.\\hat{k} \\end{equation*}"
   ]
  },
  {
   "cell_type": "code",
   "execution_count": null,
   "metadata": {
    "collapsed": true
   },
   "outputs": [],
   "source": []
  },
  {
   "cell_type": "code",
   "execution_count": null,
   "metadata": {
    "collapsed": true
   },
   "outputs": [],
   "source": []
  }
 ],
 "metadata": {
  "kernelspec": {
   "display_name": "Python 3",
   "language": "python",
   "name": "python3"
  },
  "language_info": {
   "codemirror_mode": {
    "name": "ipython",
    "version": 3
   },
   "file_extension": ".py",
   "mimetype": "text/x-python",
   "name": "python",
   "nbconvert_exporter": "python",
   "pygments_lexer": "ipython3",
   "version": "3.6.1"
  }
 },
 "nbformat": 4,
 "nbformat_minor": 2
}
