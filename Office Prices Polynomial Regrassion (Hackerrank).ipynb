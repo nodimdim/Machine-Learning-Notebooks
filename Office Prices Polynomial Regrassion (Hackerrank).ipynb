{
 "cells": [
  {
   "cell_type": "code",
   "execution_count": null,
   "metadata": {
    "collapsed": true
   },
   "outputs": [],
   "source": [
    "import pandas as pd\n",
    "from sklearn.pipeline import Pipeline\n",
    "from sklearn.preprocessing import PolynomialFeatures\n",
    "from sklearn.linear_model import LinearRegression\n",
    "import numpy as np\n",
    "\n",
    "\n",
    "f, n = map(int, input().split())\n",
    "\n",
    "features = []\n",
    "targets = []\n",
    "for _ in range(0,n):\n",
    "    flst = list(map(float, input().split()))\n",
    "    tlst = []\n",
    "    tlst.append(flst.pop())\n",
    "    targets.append(tlst);\n",
    "    features.append(flst)\n",
    "\n",
    "model = Pipeline([('poly', PolynomialFeatures(degree=3)),('linear', LinearRegression(fit_intercept=False))])\n",
    "\n",
    "model = model.fit(features, targets)\n",
    "\n",
    "\n",
    "q = int(input())\n",
    "\n",
    "t_features = []\n",
    "for _ in range(0,q):\n",
    "    flst = list(map(float, input().split()))\n",
    "    t_features.append(flst)\n",
    "\n",
    "result = model.predict(t_features)\n",
    "\n",
    "for item in result:\n",
    "    c\n",
    "    \n"
   ]
  }
 ],
 "metadata": {
  "kernelspec": {
   "display_name": "Python 3",
   "language": "python",
   "name": "python3"
  },
  "language_info": {
   "codemirror_mode": {
    "name": "ipython",
    "version": 3
   },
   "file_extension": ".py",
   "mimetype": "text/x-python",
   "name": "python",
   "nbconvert_exporter": "python",
   "pygments_lexer": "ipython3",
   "version": "3.6.1"
  }
 },
 "nbformat": 4,
 "nbformat_minor": 2
}
